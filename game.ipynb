{
 "cells": [
  {
   "cell_type": "markdown",
   "metadata": {},
   "source": [
    "# Игра угадай число"
   ]
  },
  {
   "cell_type": "code",
   "execution_count": 23,
   "metadata": {},
   "outputs": [
    {
     "name": "stdout",
     "output_type": "stream",
     "text": [
      "Компьютер загадал число от 1 до 100. Попробуем угадать!\n",
      "Угадано число 97 за 5 попыток!\n"
     ]
    }
   ],
   "source": [
    "import random\n",
    "\n",
    "def random_predict():\n",
    "    \"\"\"\n",
    "    Генерирует случайное число от 1 до 100 для угадывания.\n",
    "    \n",
    "    Возвращает:\n",
    "        int: Случайное число в диапазоне [1, 100].\n",
    "    \"\"\"\n",
    "    return random.randint(1, 100)\n",
    "\n",
    "def score_game(secret_number):\n",
    "    \"\"\"\n",
    "    Угадывает переданное число (secret_number) за максимум 20 попыток, используя бинарный поиск.\n",
    "    \n",
    "    Параметры:\n",
    "        secret_number (int): Число, которое нужно угадать.\n",
    "    \n",
    "    Возвращает:\n",
    "        int: Количество попыток (от 1 до 20) или -1, если не угадано.\n",
    "    \"\"\"\n",
    "    # Инициализация границ поиска\n",
    "    low = 1                 # Минимально возможное число\n",
    "    high = 100              # Максимально возможное число\n",
    "    attempts = 0            # Счётчик попыток\n",
    "    max_attempts = 20       # Лимит попыток (с запасом, т.к. бинарный поиск требует до 7 попыток для 100 чисел)\n",
    "    \n",
    "    while attempts < max_attempts:\n",
    "        guess = (low + high) // 2\n",
    "        attempts += 1\n",
    "        \n",
    "        if guess == secret_number:\n",
    "            print(f\"Угадано число {secret_number} за {attempts} попыток!\")\n",
    "            return attempts\n",
    "        elif guess < secret_number:\n",
    "            low = guess + 1\n",
    "        else:\n",
    "            high = guess - 1\n",
    "    \n",
    "    print(f\"Не угадано за {max_attempts} попыток. Число было: {secret_number}.\")\n",
    "    return -1  # Код ошибки\n",
    "\n",
    "# Запуск игры\n",
    "if __name__ == \"__main__\":\n",
    "    secret = random_predict()\n",
    "    print(\"Компьютер загадал число от 1 до 100. Попробуем угадать!\")\n",
    "    score_game(secret)\n",
    "\n",
    "\n",
    "from game_v2 import score_game\n",
    "from game_v2 import random_predict"
   ]
  },
  {
   "cell_type": "markdown",
   "metadata": {},
   "source": [
    "## Угадываем рандомно"
   ]
  },
  {
   "cell_type": "code",
   "execution_count": 28,
   "metadata": {},
   "outputs": [
    {
     "name": "stdout",
     "output_type": "stream",
     "text": [
      "Ваш алгоритм угадывает число в среднем за:99 попыток\n"
     ]
    },
    {
     "data": {
      "text/plain": [
       "99"
      ]
     },
     "execution_count": 28,
     "metadata": {},
     "output_type": "execute_result"
    }
   ],
   "source": [
    "from game_v2 import score_game\n",
    "from game_v2 import random_predict\n",
    "\n",
    "score_game(random_predict)"
   ]
  },
  {
   "cell_type": "markdown",
   "metadata": {},
   "source": [
    "Я так и не понял, почему в разделе \"Угадываем рандомно\" код выводит значение выше 98, в то время как код выше я проверил, и он действительно выдаёт результат за меньше, чем 20 попыток."
   ]
  },
  {
   "cell_type": "code",
   "execution_count": null,
   "metadata": {},
   "outputs": [],
   "source": []
  }
 ],
 "metadata": {
  "kernelspec": {
   "display_name": "Python 3",
   "language": "python",
   "name": "python3"
  },
  "language_info": {
   "codemirror_mode": {
    "name": "ipython",
    "version": 3
   },
   "file_extension": ".py",
   "mimetype": "text/x-python",
   "name": "python",
   "nbconvert_exporter": "python",
   "pygments_lexer": "ipython3",
   "version": "3.8.6"
  },
  "orig_nbformat": 4
 },
 "nbformat": 4,
 "nbformat_minor": 2
}
